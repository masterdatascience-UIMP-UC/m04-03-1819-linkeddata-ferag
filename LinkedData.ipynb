{
 "cells": [
  {
   "cell_type": "markdown",
   "metadata": {},
   "source": [
    "# Linked Data con Python\n",
    "\n",
    "Usaremos:\n",
    "\n",
    "* gastrodon: Toolkit to display, analyze, and visualize data and documents based on RDF graphs and the SPARQL query language using Pandas, Jupyter, and other Python ecosystem tools. https://github.com/paulhoule/gastrodon\n",
    "* sys\n",
    "* pandas \n",
    "\n",
    "<div class=\"alert alert-warning\" role=\"alert\" style=\"margin: 10px\">\n",
    "Para instalar la librería:<br>\n",
    "jovyan@9778f76bfaea:~$ /opt/conda/bin/pip install gastrodon\n",
    "</div>"
   ]
  },
  {
   "cell_type": "markdown",
   "metadata": {},
   "source": [
    "## Cargamos el entorno"
   ]
  },
  {
   "cell_type": "code",
   "execution_count": null,
   "metadata": {},
   "outputs": [],
   "source": [
    "import sys\n",
    "from gastrodon import RemoteEndpoint,QName,ttl,URIRef,inline\n",
    "import pandas as pd\n",
    "import matplotlib.pyplot as plt\n",
    "import numpy as np\n",
    "from matplotlib import colors\n",
    "from matplotlib.ticker import PercentFormatter\n",
    "from IPython.display import display, HTML\n",
    "pd.options.display.width=120\n",
    "pd.options.display.max_colwidth=100"
   ]
  },
  {
   "cell_type": "markdown",
   "metadata": {},
   "source": [
    "Definimos los prefijos que de los \"namespace\" a utilizar"
   ]
  },
  {
   "cell_type": "code",
   "execution_count": null,
   "metadata": {},
   "outputs": [],
   "source": [
    "prefixes=inline(\"\"\"\n",
    "    @prefix : <http://dbpedia.org/resource/> .\n",
    "    @prefix dbo: <http://dbpedia.org/ontology/> .\n",
    "    @prefix dbp: <http://dbpedia.org/property/> .\n",
    "    @prefix foaf: <http://xmlns.com/foaf/0.1/> .\n",
    "\"\"\").graph"
   ]
  },
  {
   "cell_type": "markdown",
   "metadata": {},
   "source": [
    "Y el endpoint sobre el que vamos a hacer las consultas. En este caso, dbpedia."
   ]
  },
  {
   "cell_type": "code",
   "execution_count": null,
   "metadata": {},
   "outputs": [],
   "source": [
    "endpoint=RemoteEndpoint(\n",
    "    \"http://dbpedia.org/sparql/\"\n",
    "    ,default_graph=\"http://dbpedia.org\"\n",
    "    ,prefixes=prefixes\n",
    "    ,base_uri=\"http://dbpedia.org/resource/\"\n",
    ")"
   ]
  },
  {
   "cell_type": "markdown",
   "metadata": {},
   "source": [
    "## Tripletas en DBpedia\n",
    "\n",
    "Con una consulta simple, podemos contar el número de tripletas"
   ]
  },
  {
   "cell_type": "code",
   "execution_count": null,
   "metadata": {
    "scrolled": false
   },
   "outputs": [],
   "source": [
    "count=endpoint.select(\"\"\"\n",
    "    SELECT (COUNT(*) AS ?count) { ?s ?p ?o .}\n",
    "\"\"\").at[0,\"count\"]\n",
    "count"
   ]
  },
  {
   "cell_type": "markdown",
   "metadata": {},
   "source": [
    "## Número de predicados\n",
    "\n",
    "Para la siguiente consulta, hacemos una lista de predicados comunes. El número de respuestas en el endpoint de DBPEDIA está limitado a 10000.\n",
    "\n",
    "Each predicate is a relationship between a topic and either another topic or a literal value.  For instance,  the **rdf:type** predicate links a topic to another topic representing a class that the first topic is an instance,  for instance:\n",
    "\n",
    "```\n",
    "<Alan_Alda> rdf:type on:Person .\n",
    "```\n",
    "\n",
    "**rdfs:label**,  on the other hand,  links topics to literal values,  such as\n",
    "\n",
    "```\n",
    "<Alan_Alda> rdfs:label \n",
    "                \"Alan Alda\"@en,\n",
    "                \"アラン・アルダ\"@ja . \n",
    "```\n",
    "\n",
    "Strings in RDF (like the one above) are unusual compared to other computer languages because they can contain language tags,  a particularly helpful feature for multilingual databases such as DBpedia."
   ]
  },
  {
   "cell_type": "code",
   "execution_count": null,
   "metadata": {
    "scrolled": false
   },
   "outputs": [],
   "source": [
    "predicates=endpoint.select(\"\"\"\n",
    "    SELECT ?p (COUNT(*) AS ?count) { ?s ?p ?o .} GROUP BY ?p ORDER BY DESC(?count)\n",
    "\"\"\")\n",
    "predicates"
   ]
  },
  {
   "cell_type": "markdown",
   "metadata": {},
   "source": [
    "Podemos enseñar solo los N primeros resultados"
   ]
  },
  {
   "cell_type": "code",
   "execution_count": null,
   "metadata": {},
   "outputs": [],
   "source": [
    "predicates.head(30)"
   ]
  },
  {
   "cell_type": "markdown",
   "metadata": {},
   "source": [
    "O los últimos"
   ]
  },
  {
   "cell_type": "code",
   "execution_count": null,
   "metadata": {},
   "outputs": [],
   "source": [
    "predicates.tail()"
   ]
  },
  {
   "cell_type": "markdown",
   "metadata": {},
   "source": [
    "## Visualización de resultados"
   ]
  },
  {
   "cell_type": "markdown",
   "metadata": {},
   "source": [
    "**dbo:Image** Algunos resultados de dbpedia son links a imagenes, que gracias a Jupyter, podemos visualizarlos"
   ]
  },
  {
   "cell_type": "code",
   "execution_count": null,
   "metadata": {},
   "outputs": [],
   "source": [
    "endpoint.select(\"\"\"\n",
    "    SELECT (COUNT(*) AS ?count) { SELECT DISTINCT ?type { ?s a ?type .} }\n",
    "\"\"\")"
   ]
  },
  {
   "cell_type": "code",
   "execution_count": null,
   "metadata": {},
   "outputs": [],
   "source": [
    "types=endpoint.select(\"\"\"\n",
    "    SELECT ?type (COUNT(*) AS ?count) { ?s a ?type .} GROUP BY ?type ORDER BY DESC(?count)\n",
    "\"\"\")\n",
    "types[types.index.str.startswith('dbo:')]"
   ]
  },
  {
   "cell_type": "code",
   "execution_count": null,
   "metadata": {
    "scrolled": true
   },
   "outputs": [],
   "source": [
    "pics = endpoint.select(\"\"\"\n",
    "    SELECT ?that { \n",
    "        ?that a dbo:Image\n",
    "    } LIMIT 10\n",
    "\"\"\")\n",
    "pics"
   ]
  },
  {
   "cell_type": "code",
   "execution_count": null,
   "metadata": {},
   "outputs": [],
   "source": [
    "HTML('<img src=\"{0}\">'.format(pics.at[9,'that']))"
   ]
  },
  {
   "cell_type": "markdown",
   "metadata": {},
   "source": [
    "## Ejercicio 1"
   ]
  },
  {
   "cell_type": "markdown",
   "metadata": {},
   "source": [
    "Muestra la imagen de un escritor/a vivo"
   ]
  },
  {
   "cell_type": "code",
   "execution_count": null,
   "metadata": {},
   "outputs": [],
   "source": [
    "escritores = endpoint.select(\"\"\"\n",
    "SELECT ?nombre ?foto\n",
    "WHERE{\n",
    "    ?autor a dbo:Writer .\n",
    "    ?autor foaf:name ?nombre .\n",
    "    ?autor dbo:birthDate ?fechaNac .\n",
    "    ?autor foaf:depiction ?foto\n",
    "    FILTER NOT EXISTS { ?autor dbo:deathDate ?death. }\n",
    "} \n",
    "LIMIT 100\n",
    "\n",
    "\n",
    "\n",
    "\"\"\")\n",
    "escritores"
   ]
  },
  {
   "cell_type": "code",
   "execution_count": null,
   "metadata": {},
   "outputs": [],
   "source": [
    "HTML('<img src=\"{0}\">'.format(escritores.at[99,'foto']))"
   ]
  },
  {
   "cell_type": "markdown",
   "metadata": {},
   "source": [
    "Los datos se pueden recoger en distintos tipos de estructuras para mostrarlos en gráficos. Veamos un ejemplo de un diagrama de barras."
   ]
  },
  {
   "cell_type": "code",
   "execution_count": null,
   "metadata": {},
   "outputs": [],
   "source": [
    "places = endpoint.select(\"\"\"\n",
    "SELECT ?city ?population\n",
    "WHERE{\n",
    "    ?city a dbo:PopulatedPlace .\n",
    "    ?city dbo:populationTotal ?population\n",
    "    FILTER (?population > 1000000)\n",
    "} \n",
    "ORDER BY ASC(?population)\n",
    "LIMIT 100\n",
    "\"\"\")"
   ]
  },
  {
   "cell_type": "code",
   "execution_count": null,
   "metadata": {},
   "outputs": [],
   "source": [
    "places.head(10)"
   ]
  },
  {
   "cell_type": "code",
   "execution_count": null,
   "metadata": {},
   "outputs": [],
   "source": [
    "places.head(10).hist()\n",
    "places.head(10)['city']"
   ]
  },
  {
   "cell_type": "markdown",
   "metadata": {},
   "source": [
    "# Ejercicios de consultas"
   ]
  },
  {
   "cell_type": "markdown",
   "metadata": {},
   "source": [
    "<div class=\"alert alert-warning\" role=\"alert\" style=\"margin: 10px\">\n",
    "La librería a veces tiene problemas con las fechas. Si es así, colocal la consulta en el endpoint directamente para comprobar que si el problema está en la consulta o en el paquete.\n",
    "</div>"
   ]
  },
  {
   "cell_type": "markdown",
   "metadata": {},
   "source": [
    "1. Obtener la masa de 10 estrellas"
   ]
  },
  {
   "cell_type": "markdown",
   "metadata": {},
   "source": [
    "2. Constelación a la que pertenece cada estrella "
   ]
  },
  {
   "cell_type": "markdown",
   "metadata": {},
   "source": [
    "3. Distancia a la que está la estrella Kepler-19 "
   ]
  },
  {
   "cell_type": "markdown",
   "metadata": {},
   "source": [
    "4. Estrellas pertenecientes a la constelación Centaurus "
   ]
  },
  {
   "cell_type": "markdown",
   "metadata": {},
   "source": [
    "5. Obtener la población total de Londres "
   ]
  },
  {
   "cell_type": "markdown",
   "metadata": {},
   "source": [
    "6. Gente que nació en Londres antes de 1900 "
   ]
  },
  {
   "cell_type": "markdown",
   "metadata": {},
   "source": [
    "7. Nombre y fechas de nacimiento y de muerte de toda la gente nacida en Londres entre 1900 y 1950. "
   ]
  },
  {
   "cell_type": "markdown",
   "metadata": {},
   "source": [
    "8. Nombre y fecha de nacimiento de los actores nacidos en Londres después de 1930 que siguen vivos."
   ]
  },
  {
   "cell_type": "markdown",
   "metadata": {},
   "source": [
    "9. Fotos de 10 de los actores nacidos en Londres después de 1930 que siguen vivos."
   ]
  },
  {
   "cell_type": "markdown",
   "metadata": {},
   "source": [
    "10 . Histograma de las 10 peliculas más largas"
   ]
  }
 ],
 "metadata": {
  "kernelspec": {
   "display_name": "Python 3",
   "language": "python",
   "name": "python3"
  },
  "language_info": {
   "codemirror_mode": {
    "name": "ipython",
    "version": 3
   },
   "file_extension": ".py",
   "mimetype": "text/x-python",
   "name": "python",
   "nbconvert_exporter": "python",
   "pygments_lexer": "ipython3",
   "version": "3.6.5"
  }
 },
 "nbformat": 4,
 "nbformat_minor": 2
}
